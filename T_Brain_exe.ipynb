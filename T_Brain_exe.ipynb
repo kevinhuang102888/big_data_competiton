{
 "cells": [
  {
   "cell_type": "code",
   "execution_count": null,
   "metadata": {},
   "outputs": [],
   "source": [
    "features = [\"OCCUPATION_CLASS_CD\", \"INSD_LAST_YEARDIF_CNT\", \"AGE_中\", \"AGE_高\", \"ANNUAL_PREMIUM_AMT\", \"APC_1ST_YEARDIF\", \"ANNUAL_INCOME_AMT\",\\\n",
    "            \"DIEACCIDENT_AMT\", \"TOOL_VISIT_1YEAR_CNT\", \"LAST_A_ISSUE_DT_N\", \"INSD_1ST_AGE_中\", \"EDUCATION_CD\", \"L1YR_A_ISSUE_CNT\"]"
   ]
  },
  {
   "cell_type": "code",
   "execution_count": null,
   "metadata": {},
   "outputs": [],
   "source": [
    "import pandas as pd\n",
    "import numpy as np\n",
    "import matplotlib.pyplot as plt\n",
    "import seaborn as sns\n",
    "\n",
    "from xgboost import XGBClassifier, plot_importance, DMatrix\n",
    "from sklearn.model_selection import train_test_split, cross_val_score, StratifiedShuffleSplit, GridSearchCV\n",
    "from sklearn.metrics import confusion_matrix, classification_report, roc_auc_score\n",
    "from sklearn.decomposition import PCA\n",
    "from sklearn.manifold import Isomap  # 原本想測試看看降維\n",
    "\n",
    "from sklearn.linear_model import LogisticRegression\n",
    "from sklearn.neural_network import MLPClassifier\n",
    "from sklearn.svm import LinearSVC\n",
    "from sklearn.ensemble import RandomForestClassifier\n",
    "from sklearn.tree import DecisionTreeClassifier\n",
    "from sklearn.naive_bayes import GaussianNB\n",
    "\n",
    "train_data = pd.read_csv(\"train.csv\", encoding=\"ansi\", dtype={\"APC_1ST_AGE\":object, \"RFM_R\":object, \"REBUY_TIMES_CNT\":object})"
   ]
  },
  {
   "cell_type": "markdown",
   "metadata": {},
   "source": [
    "_資料前處理_"
   ]
  },
  {
   "cell_type": "code",
   "execution_count": null,
   "metadata": {
    "scrolled": false
   },
   "outputs": [],
   "source": [
    "train_data[\"Y1\"] = train_data[\"Y1\"].map({\"N\":0, \"Y\":1})\n",
    "train_data[\"GENDER\"] = train_data[\"GENDER\"].map({\"F\":0, \"M\":1})  # Y1轉成數字以利後面操作、性別是我覺得唯一能轉換的類別資料\n",
    "\n",
    "predict = train_data[\"Y1\"]\n",
    "train_data = pd.get_dummies(train_data, dtype=\"float\")  # 將所有特徵進行One-hot Encoding\n",
    "train_data = train_data.astype(\"float\")\n",
    "train_data = train_data[features]  # feature選自於xgboost中plot_importance前十三名\n",
    "train_data.fillna(0, inplace=True)"
   ]
  },
  {
   "cell_type": "markdown",
   "metadata": {},
   "source": [
    "**比起train_test_split，它可以隨機抽取並劃分資料**"
   ]
  },
  {
   "cell_type": "code",
   "execution_count": null,
   "metadata": {
    "scrolled": true
   },
   "outputs": [],
   "source": [
    "sss = StratifiedShuffleSplit(test_size=0.25, train_size=0.75)\n",
    "for _train, _test in sss.split(train_data, predict):\n",
    "    X_train, X_test = train_data[train_data.index.isin(_train)], train_data[train_data.index.isin(_test)]\n",
    "    Y_train, Y_test = predict[predict.index.isin(_train)], predict[predict.index.isin(_test)]"
   ]
  },
  {
   "cell_type": "markdown",
   "metadata": {},
   "source": [
    "### __~~不管3721先丟進模型再說~~__"
   ]
  },
  {
   "cell_type": "markdown",
   "metadata": {},
   "source": [
    "* 羅吉斯回歸"
   ]
  },
  {
   "cell_type": "code",
   "execution_count": null,
   "metadata": {},
   "outputs": [],
   "source": [
    "log = LogisticRegression(solver=\"liblinear\")\n",
    "log.fit(X_train, Y_train)\n",
    "roc_auc_score(Y_test, log.predict_proba(X_test)[:, 1])  # 計算AUC分數\n",
    "\n",
    "# lb = np.percentile(log.predict_proba(X_test)[:, 1], 0.5)\n",
    "# res = np.where(log.predict_proba(X_test)[:, 1]<=lb, 1, 0)\n",
    "# roc_auc_score(Y_test, res)\n",
    "'''\n",
    "原本以為只能上傳含0跟1的結果\n",
    "所以想調整閾值降低判定為1的門檻\n",
    "'''"
   ]
  },
  {
   "cell_type": "code",
   "execution_count": null,
   "metadata": {},
   "outputs": [],
   "source": [
    "cross_val_score(log, train_data, predict, cv=sss, scoring=\"roc_auc\", n_jobs=-1)"
   ]
  },
  {
   "cell_type": "markdown",
   "metadata": {},
   "source": [
    "+ [x] LinearSVC運算速度較快\n",
    "- [ ] SVM算老半天算不出來"
   ]
  },
  {
   "cell_type": "code",
   "execution_count": null,
   "metadata": {},
   "outputs": [],
   "source": [
    "svc = LinearSVC()\n",
    "svc.fit(X_train, Y_train)\n",
    "# roc_auc_score(Y_test, log.decision_function(X_test)[:, 1])\n",
    "\n",
    "svc.decision_function(X_test)  # decision_function可以計算每筆資料與boundary的距離[但我不會用]"
   ]
  },
  {
   "cell_type": "markdown",
   "metadata": {},
   "source": [
    "> 決策樹的上傳結果比訓練成果來的差  \n",
    "> 隨機森林經測試效果又更差(我的測試啦)\n",
    ">> 但這兩個模型都能畫出美美的圖！！！"
   ]
  },
  {
   "cell_type": "code",
   "execution_count": null,
   "metadata": {},
   "outputs": [],
   "source": [
    "dtc = DecisionTreeClassifier(max_depth=6, min_samples_leaf=2)\n",
    "dtc.fit(X_train, Y_train)\n",
    "roc_auc_score(Y_test, dtc.predict_proba(X_test)[:, 1])"
   ]
  },
  {
   "cell_type": "code",
   "execution_count": null,
   "metadata": {},
   "outputs": [],
   "source": [
    "cross_val_score(dtc, train_data, predict, cv=sss, scoring=\"roc_auc\", n_jobs=-1)"
   ]
  },
  {
   "cell_type": "markdown",
   "metadata": {},
   "source": [
    "### sklearn內建的神經網路"
   ]
  },
  {
   "cell_type": "code",
   "execution_count": null,
   "metadata": {},
   "outputs": [],
   "source": [
    "mlp = MLPClassifier()\n",
    "mlp.fit(X_train, Y_train)\n",
    "mlp.score(X_test, Y_test)  # 計算平均準確率"
   ]
  },
  {
   "cell_type": "code",
   "execution_count": null,
   "metadata": {},
   "outputs": [],
   "source": [
    "cross_val_score(mlp, train_data, predict, cv=sss, scoring=\"roc_auc\", n_jobs=-1)"
   ]
  },
  {
   "cell_type": "markdown",
   "metadata": {},
   "source": [
    "### 上傳資料"
   ]
  },
  {
   "cell_type": "code",
   "execution_count": null,
   "metadata": {},
   "outputs": [],
   "source": [
    "test_data = pd.read_csv(\"test.csv\", encoding=\"ansi\", dtype={\"APC_1ST_AGE\":object, \"RFM_R\":object, \"REBUY_TIMES_CNT\":object})\n",
    "test_data[\"GENDER\"] = test_data[\"GENDER\"].map({\"F\":0, \"M\":1})\n",
    "test_data = test_data.set_index(\"CUS_ID\")\n",
    "test_data = pd.get_dummies(test_data, dtype=\"float\")\n",
    "''''''\n",
    "test_data = test_data[features]\n",
    "test_data.fillna(0, inplace=True)\n",
    "''''''\n",
    "test_data = test_data.astype(\"float\")"
   ]
  },
  {
   "cell_type": "code",
   "execution_count": null,
   "metadata": {},
   "outputs": [],
   "source": [
    "mlp_pred = pd.Series(mlp.predict_proba(test_data)[:, 1], name=\"Ypred\")\n",
    "upload = pd.concat([pd.Series(test_data.index), mlp_pred], axis=1).set_index(\"CUS_ID\")\n",
    "upload.to_csv(\"upload_0926_1.csv\")"
   ]
  }
 ],
 "metadata": {
  "kernelspec": {
   "display_name": "Python 3",
   "language": "python",
   "name": "python3"
  },
  "language_info": {
   "codemirror_mode": {
    "name": "ipython",
    "version": 3
   },
   "file_extension": ".py",
   "mimetype": "text/x-python",
   "name": "python",
   "nbconvert_exporter": "python",
   "pygments_lexer": "ipython3",
   "version": "3.7.3"
  }
 },
 "nbformat": 4,
 "nbformat_minor": 2
}
