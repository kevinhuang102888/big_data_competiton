{
 "cells": [
  {
   "cell_type": "code",
   "execution_count": 2,
   "metadata": {},
   "outputs": [],
   "source": [
    "import numpy as np\n",
    "import pandas as pd\n",
    "import matplotlib.pyplot as plt\n",
    "from sklearn.preprocessing import Imputer\n",
    "from sklearn.model_selection import train_test_split\n",
    "from sklearn.svm import LinearSVC\n",
    "from sklearn import linear_model\n",
    "from sklearn.linear_model import LinearRegression\n",
    "\n",
    "\n",
    "\n",
    "\n",
    "\n",
    "#可以用決策數分析來協助報告"
   ]
  },
  {
   "cell_type": "code",
   "execution_count": 33,
   "metadata": {
    "scrolled": true
   },
   "outputs": [
    {
     "name": "stderr",
     "output_type": "stream",
     "text": [
      "c:\\program files\\python37\\lib\\site-packages\\IPython\\core\\interactiveshell.py:3049: DtypeWarning: Columns (17,21,22) have mixed types. Specify dtype option on import or set low_memory=False.\n",
      "  interactivity=interactivity, compiler=compiler, result=result)\n"
     ]
    }
   ],
   "source": [
    "#資料讀入以及合併\n",
    "ls3 = pd.read_csv(\"train.csv\",encoding=\"BIG5\")\n",
    "ls3\n",
    "repet = ls3[ls3[\"Y1\"]==\"Y\"]\n",
    "ls3 = pd.concat([ls3,repet,repet,repet,repet,repet])# \n",
    "#記得調整\n",
    "num_rep = 2000*5\n",
    "#記得調整\n",
    "all_classes = ls3['Y1'].values\n",
    "i = 0\n",
    "while i < len(all_classes):\n",
    "    if all_classes[i] == \"Y\":\n",
    "        all_classes[i] = 1\n",
    "    else:\n",
    "        all_classes[i] = 0\n",
    "    i +=1\n",
    "ls3=ls3.drop(\"Y1\",axis=1)\n",
    "\n",
    "ls2 = pd.read_csv(\"test.csv\",encoding=\"BIG5\")\n",
    "name = ls2[\"CUS_ID\"]\n",
    "ls = pd.concat([ls3,ls2])  #最後調整好的是ls "
   ]
  },
  {
   "cell_type": "code",
   "execution_count": 34,
   "metadata": {
    "scrolled": false
   },
   "outputs": [
    {
     "name": "stderr",
     "output_type": "stream",
     "text": [
      "c:\\program files\\python37\\lib\\site-packages\\ipykernel_launcher.py:17: SettingWithCopyWarning: \n",
      "A value is trying to be set on a copy of a slice from a DataFrame\n",
      "\n",
      "See the caveats in the documentation: http://pandas.pydata.org/pandas-docs/stable/indexing.html#indexing-view-versus-copy\n",
      "c:\\program files\\python37\\lib\\site-packages\\ipykernel_launcher.py:19: SettingWithCopyWarning: \n",
      "A value is trying to be set on a copy of a slice from a DataFrame\n",
      "\n",
      "See the caveats in the documentation: http://pandas.pydata.org/pandas-docs/stable/indexing.html#indexing-view-versus-copy\n",
      "c:\\program files\\python37\\lib\\site-packages\\ipykernel_launcher.py:20: SettingWithCopyWarning: \n",
      "A value is trying to be set on a copy of a slice from a DataFrame\n",
      "\n",
      "See the caveats in the documentation: http://pandas.pydata.org/pandas-docs/stable/indexing.html#indexing-view-versus-copy\n",
      "c:\\program files\\python37\\lib\\site-packages\\ipykernel_launcher.py:21: SettingWithCopyWarning: \n",
      "A value is trying to be set on a copy of a slice from a DataFrame\n",
      "\n",
      "See the caveats in the documentation: http://pandas.pydata.org/pandas-docs/stable/indexing.html#indexing-view-versus-copy\n",
      "c:\\program files\\python37\\lib\\site-packages\\ipykernel_launcher.py:22: SettingWithCopyWarning: \n",
      "A value is trying to be set on a copy of a slice from a DataFrame\n",
      "\n",
      "See the caveats in the documentation: http://pandas.pydata.org/pandas-docs/stable/indexing.html#indexing-view-versus-copy\n",
      "c:\\program files\\python37\\lib\\site-packages\\ipykernel_launcher.py:23: SettingWithCopyWarning: \n",
      "A value is trying to be set on a copy of a slice from a DataFrame\n",
      "\n",
      "See the caveats in the documentation: http://pandas.pydata.org/pandas-docs/stable/indexing.html#indexing-view-versus-copy\n",
      "c:\\program files\\python37\\lib\\site-packages\\ipykernel_launcher.py:24: SettingWithCopyWarning: \n",
      "A value is trying to be set on a copy of a slice from a DataFrame\n",
      "\n",
      "See the caveats in the documentation: http://pandas.pydata.org/pandas-docs/stable/indexing.html#indexing-view-versus-copy\n",
      "c:\\program files\\python37\\lib\\site-packages\\ipykernel_launcher.py:25: SettingWithCopyWarning: \n",
      "A value is trying to be set on a copy of a slice from a DataFrame\n",
      "\n",
      "See the caveats in the documentation: http://pandas.pydata.org/pandas-docs/stable/indexing.html#indexing-view-versus-copy\n",
      "c:\\program files\\python37\\lib\\site-packages\\ipykernel_launcher.py:26: SettingWithCopyWarning: \n",
      "A value is trying to be set on a copy of a slice from a DataFrame\n",
      "\n",
      "See the caveats in the documentation: http://pandas.pydata.org/pandas-docs/stable/indexing.html#indexing-view-versus-copy\n",
      "c:\\program files\\python37\\lib\\site-packages\\ipykernel_launcher.py:27: SettingWithCopyWarning: \n",
      "A value is trying to be set on a copy of a slice from a DataFrame\n",
      "\n",
      "See the caveats in the documentation: http://pandas.pydata.org/pandas-docs/stable/indexing.html#indexing-view-versus-copy\n",
      "c:\\program files\\python37\\lib\\site-packages\\pandas\\core\\generic.py:8682: SettingWithCopyWarning: \n",
      "A value is trying to be set on a copy of a slice from a DataFrame\n",
      "\n",
      "See the caveats in the documentation: http://pandas.pydata.org/pandas-docs/stable/indexing.html#indexing-view-versus-copy\n",
      "  self._update_inplace(new_data)\n",
      "c:\\program files\\python37\\lib\\site-packages\\IPython\\core\\interactiveshell.py:3296: SettingWithCopyWarning: \n",
      "A value is trying to be set on a copy of a slice from a DataFrame\n",
      "\n",
      "See the caveats in the documentation: http://pandas.pydata.org/pandas-docs/stable/indexing.html#indexing-view-versus-copy\n",
      "  exec(code_obj, self.user_global_ns, self.user_ns)\n",
      "c:\\program files\\python37\\lib\\site-packages\\ipykernel_launcher.py:44: SettingWithCopyWarning: \n",
      "A value is trying to be set on a copy of a slice from a DataFrame\n",
      "\n",
      "See the caveats in the documentation: http://pandas.pydata.org/pandas-docs/stable/indexing.html#indexing-view-versus-copy\n",
      "c:\\program files\\python37\\lib\\site-packages\\ipykernel_launcher.py:46: SettingWithCopyWarning: \n",
      "A value is trying to be set on a copy of a slice from a DataFrame\n",
      "\n",
      "See the caveats in the documentation: http://pandas.pydata.org/pandas-docs/stable/indexing.html#indexing-view-versus-copy\n",
      "c:\\program files\\python37\\lib\\site-packages\\ipykernel_launcher.py:47: SettingWithCopyWarning: \n",
      "A value is trying to be set on a copy of a slice from a DataFrame\n",
      "\n",
      "See the caveats in the documentation: http://pandas.pydata.org/pandas-docs/stable/indexing.html#indexing-view-versus-copy\n"
     ]
    }
   ],
   "source": [
    "need_to_0 = [\"DIEBENEFIT_AMT\",\"DIEACCIDENT_AMT\",\"POLICY_VALUE_AMT\",\"ANNUITY_AMT\",\"EXPIRATION_AMT\",\"ACCIDENT_HOSPITAL_REC_AMT\",\n",
    "        \"DISEASES_HOSPITAL_REC_AMT\",\"OUTPATIENT_SURGERY_AMT\",\"INPATIENT_SURGERY_AMT\",\"PAY_LIMIT_MED_MISC_AMT\",\"FIRST_CANCER_AMT\",\n",
    "        \"ILL_ACCELERATION_AMT\",\"ILL_ADDITIONAL_AMT\",\"LONG_TERM_CARE_AMT\",\"MONTHLY_CARE_AMT\",\n",
    "        ]\n",
    "\n",
    "need_to_N = [\"IF_ISSUE_INSD_A_IND\",\"IF_ISSUE_INSD_B_IND\",\"IF_ISSUE_INSD_C_IND\",\"IF_ISSUE_INSD_D_IND\",\"IF_ISSUE_INSD_E_IND\",\n",
    "        \"IF_ISSUE_INSD_F_IND\",\"IF_ISSUE_INSD_G_IND\",\"IF_ISSUE_INSD_H_IND\",\"IF_ISSUE_INSD_I_IND\",\"IF_ISSUE_INSD_J_IND\",\n",
    "        \"IF_ISSUE_INSD_K_IND\",\"IF_ISSUE_INSD_L_IND\",\"IF_ISSUE_INSD_M_IND\",\"IF_ISSUE_INSD_N_IND\",\"IF_ISSUE_INSD_O_IND\",\n",
    "        \"IF_ISSUE_INSD_P_IND\",\"IF_ISSUE_INSD_Q_IND\",\n",
    "        \"IF_ADD_INSD_F_IND\",\"IF_ADD_INSD_L_IND\",\"IF_ADD_INSD_Q_IND\",\"IF_ADD_INSD_G_IND\",\"IF_ADD_INSD_R_IND\",    \n",
    "        \"IF_ADD_INSD_IND\",\n",
    "        \"FINANCETOOLS_A\",\"FINANCETOOLS_B\",\"FINANCETOOLS_C\",\"FINANCETOOLS_D\",\"FINANCETOOLS_E\",\"FINANCETOOLS_F\",\"FINANCETOOLS_G\",\n",
    "        \"X_A_IND\",\"X_B_IND\",\"X_C_IND\",\"X_D_IND\",\"X_E_IND\",\"X_F_IND\",\"X_G_IND\",\"X_H_IND\",\n",
    "            'A_IND', 'B_IND', 'C_IND']\n",
    "for i in need_to_0 :\n",
    "    ls[i][ls[i].isna()] = 0\n",
    "for i in need_to_N :\n",
    "    ls[i][ls[i].isna()] = \"N\"\n",
    "ls[\"GENDER\"][ls[\"GENDER\"].isna()] = \"F\"#性別 填女\n",
    "ls[\"OCCUPATION_CLASS_CD\"][ls[\"OCCUPATION_CLASS_CD\"].isna()] = 1# 職業風險分數 眾數\n",
    "ls[\"TERMINATION_RATE\"][ls[\"TERMINATION_RATE\"].isna()] = 0# 曾經解保單比率 眾數為0 加上值觀上也算是沒有解保單過\n",
    "ls[\"LEVEL\"][ls[\"LEVEL\"].isna()] = 0  #往來等級 1~5 但沒有往來 所以決定填0\n",
    "ls[\"RFM_M_LEVEL\"][ls[\"RFM_M_LEVEL\"].isna()] = 1#曾投保主約級數 3~10 無投保 推估1\n",
    "ls[\"APC_1ST_AGE\"][ls[\"APC_1ST_AGE\"].isna()] = \"無\"        #第一次擔任被保人年齡(等級)\n",
    "ls[\"RFM_R\"][ls[\"RFM_R\"].isna()] = \"無\"                    #上次要保人身分投保  (等級)這三個獨立出來當一個類別\n",
    "ls[\"REBUY_TIMES_CNT\"][ls[\"REBUY_TIMES_CNT\"].isna()] = \"無\"#再次購買           (等級)\n",
    "\n",
    "#這段是對教育程度和年收入的交叉填值\n",
    "new = ls[[\"EDUCATION_CD\",\"ANNUAL_INCOME_AMT\"]]\n",
    "b = new.groupby(\"EDUCATION_CD\").mean().unstack().unstack()\n",
    "new[\"ANNUAL_INCOME_AMT\"][(new[\"ANNUAL_INCOME_AMT\"].isna()) & (new[\"EDUCATION_CD\"]==1)]=float(b[1])\n",
    "new[\"ANNUAL_INCOME_AMT\"][(new[\"ANNUAL_INCOME_AMT\"].isna()) & (new[\"EDUCATION_CD\"]==2)]=float(b[2])\n",
    "new[\"ANNUAL_INCOME_AMT\"][(new[\"ANNUAL_INCOME_AMT\"].isna()) & (new[\"EDUCATION_CD\"]==3)]=float(b[3])\n",
    "new[\"ANNUAL_INCOME_AMT\"][(new[\"ANNUAL_INCOME_AMT\"].isna()) & (new[\"EDUCATION_CD\"]==4)]=float(b[4])\n",
    "new[\"ANNUAL_INCOME_AMT\"][(new[\"ANNUAL_INCOME_AMT\"].isna())] = 0.000613 #甚麼都沒有的就填平均\n",
    "new[\"EDUCATION_CD\"][(new[\"EDUCATION_CD\"].isna()) & (new[\"ANNUAL_INCOME_AMT\"]<=0.000354)] = 1.0\n",
    "new[\"EDUCATION_CD\"][(new[\"EDUCATION_CD\"].isna()) & (new[\"ANNUAL_INCOME_AMT\"]<=0.000541)] = 2.0\n",
    "new[\"EDUCATION_CD\"][(new[\"EDUCATION_CD\"].isna()) & (new[\"ANNUAL_INCOME_AMT\"]<=0.000627)] = 3.0\n",
    "new[\"EDUCATION_CD\"][(new[\"EDUCATION_CD\"].isna()) & (new[\"ANNUAL_INCOME_AMT\"]<=1)] = 4.0\n",
    "ls[\"EDUCATION_CD\"] = new[\"EDUCATION_CD\"]\n",
    "ls[\"ANNUAL_INCOME_AMT\"] = new[\"ANNUAL_INCOME_AMT\"]\n",
    "#填年度化繳費\n",
    "ls[\"ANNUAL_PREMIUM_AMT\"][ls[\"ANNUAL_PREMIUM_AMT\"].isna()]=ls[\"L1YR_GROSS_PRE_AMT\"][ls[\"ANNUAL_PREMIUM_AMT\"].isna()] \n",
    "#填結婚的na\n",
    "ls[\"MARRIAGE_CD\"][(ls[\"MARRIAGE_CD\"].isna()) & (ls[\"INSD_CNT\"] == 0)] = 0\n",
    "ls[\"MARRIAGE_CD\"][ls[\"MARRIAGE_CD\"].isna()] = 1\n"
   ]
  },
  {
   "cell_type": "code",
   "execution_count": 35,
   "metadata": {
    "scrolled": false
   },
   "outputs": [
    {
     "name": "stdout",
     "output_type": "stream",
     "text": [
      "INSD_1ST_AGE\n",
      "APC_1ST_YEARDIF\n",
      "L1YR_C_CNT\n",
      "INSD_LAST_YEARDIF_CNT\n",
      "4\n",
      "160\n",
      "160\n"
     ]
    },
    {
     "name": "stderr",
     "output_type": "stream",
     "text": [
      "c:\\program files\\python37\\lib\\site-packages\\ipykernel_launcher.py:34: SettingWithCopyWarning: \n",
      "A value is trying to be set on a copy of a slice from a DataFrame\n",
      "\n",
      "See the caveats in the documentation: http://pandas.pydata.org/pandas-docs/stable/indexing.html#indexing-view-versus-copy\n"
     ]
    }
   ],
   "source": [
    "#資料處理\n",
    "check=ls.isna()\n",
    "column =ls.columns.values.tolist()\n",
    "column.remove(\"BMI\")\n",
    "k = 0\n",
    "\n",
    "for i in column:\n",
    "    if sum(check[i]) >0:  #將有缺失值\n",
    "        ls = ls.drop(i,axis=1)\n",
    "        print(i)\n",
    "        k += 1\n",
    "ls=ls.replace(\"無\",0)\n",
    "ls=ls.replace(\"低\",1)#將可量化的值取代\n",
    "ls=ls.replace(\"中\",2)\n",
    "ls=ls.replace(\"中高\",3)\n",
    "ls=ls.replace(\"高\",4)\n",
    "\n",
    "ls = pd.get_dummies(ls)# 將剩餘不可量化、單純為類別的變數轉換為1000、0100的格式\n",
    "#ls=ls.drop(\"Y1_N\",axis=1)#上一步驟的轉換會多轉一個沒有意義的column 將這個刪掉\n",
    "ls=ls.drop(\"CUS_ID\",axis=1)#流水號刪除\n",
    "b = ls.columns.values.tolist()#b=所有column的名子的串列\n",
    "print(k)\n",
    "\n",
    "#以下為使用全部數值預測BMI\n",
    "print(sum(ls[\"BMI\"] ==0))\n",
    "b.remove(\"BMI\")\n",
    "train_inputs = ls[b][ls[\"BMI\"]>=0]\n",
    "train_classes = ls[\"BMI\"][ls[\"BMI\"]>=0]\n",
    "test_inputs = ls[b][ls[\"BMI\"].isna()]\n",
    "train_classes = np.array(train_classes)\n",
    "dtc = LinearRegression()\n",
    "dtc.fit(train_inputs, train_classes)\n",
    "a = dtc.predict(test_inputs)\n",
    "ls[\"BMI\"][ls[\"BMI\"].isna()] = a\n",
    "b = ls.columns.values.tolist()\n",
    "print(sum(ls[\"BMI\"] ==0))"
   ]
  },
  {
   "cell_type": "markdown",
   "metadata": {},
   "source": [
    "# 以上為資料預處理"
   ]
  },
  {
   "cell_type": "markdown",
   "metadata": {},
   "source": [
    "# 以下為資料分析"
   ]
  },
  {
   "cell_type": "code",
   "execution_count": 36,
   "metadata": {
    "scrolled": true
   },
   "outputs": [],
   "source": [
    "#分割資料為測試集#這是拿來測試的\n",
    "all_inputs = ls[b].values[:100000+num_rep]\n",
    "all_classes = np.array(all_classes, dtype=int)\n",
    "(train_inputs, test_inputs, train_classes, test_classes) = train_test_split(all_inputs, all_classes, train_size=0.7, random_state=1)"
   ]
  },
  {
   "cell_type": "code",
   "execution_count": 19,
   "metadata": {},
   "outputs": [],
   "source": [
    "from sklearn.kernel_approximation import RBFSampler#調整參數用\n",
    "from sklearn.naive_bayes import GaussianNB\n",
    "from sklearn.calibration import CalibratedClassifierCV\n"
   ]
  },
  {
   "cell_type": "code",
   "execution_count": null,
   "metadata": {},
   "outputs": [],
   "source": [
    "\"\"\"\n",
    "linear_svc = LinearSVC()\n",
    "\n",
    "clf = linear_svc.fit(X_train_transformed,y_train_lables_trf)\n",
    "\n",
    "calibrated_svc = CalibratedClassifierCV(base_estimator=linear_svc,\n",
    "\n",
    "cv=\"prefit\")\n",
    "\n",
    "calibrated_svc.fit(X_train_transformed,y_train_lables_trf)\n",
    "\n",
    "predicted = calibrated_svc.predict(X_test_transformed)\n",
    "calibrated_svc.predict_proba(p_tfidf)\n",
    "\"\"\""
   ]
  },
  {
   "cell_type": "code",
   "execution_count": 37,
   "metadata": {
    "scrolled": false
   },
   "outputs": [
    {
     "name": "stderr",
     "output_type": "stream",
     "text": [
      "c:\\program files\\python37\\lib\\site-packages\\sklearn\\svm\\base.py:929: ConvergenceWarning: Liblinear failed to converge, increase the number of iterations.\n",
      "  \"the number of iterations.\", ConvergenceWarning)\n"
     ]
    },
    {
     "name": "stdout",
     "output_type": "stream",
     "text": [
      "0.8411818181818181\n",
      "0.891090909090909\n"
     ]
    }
   ],
   "source": [
    "#voting classifier \n",
    "dtc = LinearSVC(C=1.0, class_weight='balanced', dual=True, fit_intercept=True,\n",
    "     intercept_scaling=1, loss='squared_hinge', max_iter=1000,\n",
    "     multi_class='ovr', penalty='l2', random_state=None, tol=0.0001,\n",
    "     verbose=0)\n",
    "#dtc = linear_model.SGDClassifier()\n",
    "#dtc = GaussianNB()\n",
    "#dtc = BaggingClassifier()\n",
    "dtc.fit(train_inputs, train_classes)\n",
    "#算機率\n",
    "calibrated_svc = CalibratedClassifierCV(base_estimator=dtc,method = \"sigmoid\" ,cv=\"prefit\")\n",
    "#clf.calibrated_svc = CalibratedClassifierCV(base_estimator=dtc)\n",
    "calibrated_svc.fit(train_inputs, train_classes)\n",
    "print(dtc.score(test_inputs, test_classes))\n",
    "print(calibrated_svc.score(test_inputs, test_classes))\n",
    "\n",
    "\n"
   ]
  },
  {
   "cell_type": "code",
   "execution_count": 38,
   "metadata": {},
   "outputs": [
    {
     "data": {
      "text/plain": [
       "array([[0.91632779, 0.08367221],\n",
       "       [0.85762017, 0.14237983],\n",
       "       [0.84415936, 0.15584064],\n",
       "       ...,\n",
       "       [0.94127452, 0.05872548],\n",
       "       [0.98648432, 0.01351568],\n",
       "       [0.94640813, 0.05359187]])"
      ]
     },
     "execution_count": 38,
     "metadata": {},
     "output_type": "execute_result"
    }
   ],
   "source": [
    "calibrated_svc.predict_proba(test_inputs)"
   ]
  },
  {
   "cell_type": "code",
   "execution_count": 39,
   "metadata": {
    "scrolled": false
   },
   "outputs": [
    {
     "data": {
      "text/plain": [
       "19"
      ]
     },
     "execution_count": 39,
     "metadata": {},
     "output_type": "execute_result"
    }
   ],
   "source": [
    "sum(sum(dtc.coef_>0.15))"
   ]
  },
  {
   "cell_type": "code",
   "execution_count": 40,
   "metadata": {
    "scrolled": false
   },
   "outputs": [
    {
     "data": {
      "text/plain": [
       "array([-0.00785838])"
      ]
     },
     "execution_count": 40,
     "metadata": {},
     "output_type": "execute_result"
    }
   ],
   "source": [
    "dtc.intercept_"
   ]
  },
  {
   "cell_type": "code",
   "execution_count": 41,
   "metadata": {},
   "outputs": [
    {
     "data": {
      "text/plain": [
       "507"
      ]
     },
     "execution_count": 41,
     "metadata": {},
     "output_type": "execute_result"
    }
   ],
   "source": [
    "c = calibrated_svc.predict(test_inputs)\n",
    "sum(c)"
   ]
  },
  {
   "cell_type": "code",
   "execution_count": 42,
   "metadata": {
    "scrolled": true
   },
   "outputs": [
    {
     "data": {
      "text/plain": [
       "4600"
      ]
     },
     "execution_count": 42,
     "metadata": {},
     "output_type": "execute_result"
    }
   ],
   "source": [
    "cc = dtc.predict(test_inputs)\n",
    "sum(cc)"
   ]
  },
  {
   "cell_type": "code",
   "execution_count": 43,
   "metadata": {},
   "outputs": [],
   "source": [
    "c = cc"
   ]
  },
  {
   "cell_type": "markdown",
   "metadata": {},
   "source": [
    "## 測試結果"
   ]
  },
  {
   "cell_type": "code",
   "execution_count": 44,
   "metadata": {},
   "outputs": [
    {
     "name": "stdout",
     "output_type": "stream",
     "text": [
      "總預測數 33000 \n",
      "預測有續約3617 \n",
      "預測無續約 29383 \n",
      "有續約且預測為有續約數:1488\n",
      "無續約且預測為無續約數:26271\n",
      "有續約但預測為無續約數:2129\n",
      "無續約但預測為有續約數:3112\n",
      "有續約且預測為有續約率:0.411391\n",
      "無續約且預測為無續約率:0.894088\n",
      "有續約但預測為無續約率:0.588609\n",
      "無續約但預測為有續約率:0.105912\n",
      "正確率0.841182\n"
     ]
    }
   ],
   "source": [
    "print(\"總預測數 %d \"%len(c))\n",
    "print(\"預測有續約%d \"%sum(test_classes == 1))\n",
    "print(\"預測無續約 %d \"%sum(test_classes == 0))\n",
    "print(\"有續約且預測為有續約數:%d\"%sum((c == test_classes)&(test_classes == 1)))\n",
    "print(\"無續約且預測為無續約數:%d\"%sum((c == test_classes)&(test_classes == 0)))\n",
    "print(\"有續約但預測為無續約數:%d\"%sum((c != test_classes)&(test_classes == 1)))\n",
    "print(\"無續約但預測為有續約數:%d\"%sum((c != test_classes)&(test_classes == 0)))\n",
    "print(\"有續約且預測為有續約率:%f\"%(sum((c == test_classes)&(test_classes == 1))/sum(test_classes == 1)))\n",
    "print(\"無續約且預測為無續約率:%f\"%(sum((c == test_classes)&(test_classes == 0))/sum(test_classes == 0)))\n",
    "print(\"有續約但預測為無續約率:%f\"%(sum((c != test_classes)&(test_classes == 1))/sum(test_classes == 1)))\n",
    "print(\"無續約但預測為有續約率:%f\"%(sum((c != test_classes)&(test_classes == 0))/sum(test_classes == 0)))\n",
    "print(\"正確率%f\"%(sum(c == test_classes)/len(test_classes)))"
   ]
  },
  {
   "cell_type": "code",
   "execution_count": null,
   "metadata": {},
   "outputs": [],
   "source": [
    "c = dtc.predict(test_inputs)\n",
    "sum(c)\n",
    "#sum(test_classes)"
   ]
  },
  {
   "cell_type": "code",
   "execution_count": null,
   "metadata": {
    "scrolled": true
   },
   "outputs": [],
   "source": [
    "print(\"總預測數 %d \"%len(c))\n",
    "print(\"預測有續約%d \"%sum(test_classes == 1))\n",
    "print(\"預測無續約 %d \"%sum(test_classes == 0))\n",
    "print(\"有續約且預測為有續約數:%d\"%sum((c == test_classes)&(test_classes == 1)))\n",
    "print(\"無續約且預測為無續約數:%d\"%sum((c == test_classes)&(test_classes == 0)))\n",
    "print(\"有續約但預測為無續約數:%d\"%sum((c != test_classes)&(test_classes == 1)))\n",
    "print(\"無續約但預測為有續約數:%d\"%sum((c != test_classes)&(test_classes == 0)))\n",
    "print(\"有續約且預測為有續約率:%f\"%(sum((c == test_classes)&(test_classes == 1))/sum(test_classes == 1)))\n",
    "print(\"無續約且預測為無續約率:%f\"%(sum((c == test_classes)&(test_classes == 0))/sum(test_classes == 0)))\n",
    "print(\"有續約但預測為無續約率:%f\"%(sum((c != test_classes)&(test_classes == 1))/sum(test_classes == 1)))\n",
    "print(\"無續約但預測為有續約率:%f\"%(sum((c != test_classes)&(test_classes == 0))/sum(test_classes == 0)))\n",
    "print(\"正確率%f\"%(sum(c == test_classes)/len(test_classes)))"
   ]
  },
  {
   "cell_type": "code",
   "execution_count": null,
   "metadata": {},
   "outputs": [],
   "source": [
    "#輸入值 : ls\n",
    "\n",
    "#模型  :  dtc = LinearSVC(intercept_scaling=1,class_weight=\"balanced\")\n",
    "\n",
    "#結果\n",
    "\"\"\"\n",
    "總預測數 30000 \n",
    "預測有續約603 \n",
    "預測無續約 29397 \n",
    "有續約且預測為有續約數:127\n",
    "無續約且預測為無續約數:28420\n",
    "有續約但預測為無續約數:476\n",
    "無續約但預測為有續約數:977\n",
    "有續約且預測為有續約率:0.210614\n",
    "無續約且預測為無續約率:0.966765\n",
    "有續約但預測為無續約率:0.789386\n",
    "無續約但預測為有續約率:0.033235\n",
    "正確率0.951567\n",
    "\"\"\""
   ]
  },
  {
   "cell_type": "code",
   "execution_count": null,
   "metadata": {},
   "outputs": [],
   "source": [
    "#輸入值 :  ls+複製一次有續約\n",
    "\n",
    "#模型 :  dtc = LinearSVC(intercept_scaling=1,class_weight=\"balanced\")\n",
    "#結果\n",
    "\"\"\"\n",
    "總預測數 30600 \n",
    "預測有續約1195 \n",
    "預測無續約 29405 \n",
    "有續約且預測為有續約數:384\n",
    "無續約且預測為無續約數:27058\n",
    "有續約但預測為無續約數:811\n",
    "無續約但預測為有續約數:2347\n",
    "有續約且預測為有續約率:0.321339\n",
    "無續約且預測為無續約率:0.920184\n",
    "有續約但預測為無續約率:0.678661\n",
    "無續約但預測為有續約率:0.079816\n",
    "正確率0.896797\n",
    "\"\"\""
   ]
  },
  {
   "cell_type": "code",
   "execution_count": null,
   "metadata": {},
   "outputs": [],
   "source": [
    "#輸入值 :  ls+複製兩次有續約\n",
    "\n",
    "#模型 :  dtc = LinearSVC(intercept_scaling=1,class_weight=\"balanced\")\n",
    "#結果\n",
    "\"\"\"\n",
    "總預測數 31200 \n",
    "預測有續約1797 \n",
    "預測無續約 29403 \n",
    "有續約且預測為有續約數:859\n",
    "無續約且預測為無續約數:25452\n",
    "有續約但預測為無續約數:938\n",
    "無續約但預測為有續約數:3951\n",
    "有續約且預測為有續約率:0.478019\n",
    "無續約且預測為無續約率:0.865626\n",
    "有續約但預測為無續約率:0.521981\n",
    "無續約但預測為有續約率:0.134374\n",
    "正確率0.843301\n",
    "\"\"\""
   ]
  },
  {
   "cell_type": "code",
   "execution_count": null,
   "metadata": {},
   "outputs": [],
   "source": [
    "#模型 :  dtc = LinearSVC(intercept_scaling=1,class_weight=\"balanced\")\n",
    "#結果(5個)\n",
    "\"\"\"\"\"\"\n",
    "#總預測數 33000 \n",
    "#預測有續約3617 \n",
    "#預測無續約 29383 \n",
    "#有續約且預測為有續約數:1488\n",
    "#無續約且預測為無續約數:26271\n",
    "#有續約但預測為無續約數:2129\n",
    "#無續約但預測為有續約數:3112\n",
    "#有續約且預測為有續約率:0.411391\n",
    "#無續約且預測為無續約率:0.894088\n",
    "#有續約但預測為無續約率:0.588609\n",
    "#無續約但預測為有續約率:0.105912\n",
    "#正確率0.841182\n",
    "\"\"\"\"\"\""
   ]
  },
  {
   "cell_type": "markdown",
   "metadata": {},
   "source": [
    "## 加入test"
   ]
  },
  {
   "cell_type": "code",
   "execution_count": null,
   "metadata": {},
   "outputs": [],
   "source": [
    "all_inputs = ls[b][:100000+num_rep].values\n",
    "all_classes = np.array(all_classes, dtype=int)\n",
    "#all_classes = ls['Y1_Y'].values\n",
    "#(train_inputs, test_inputs, train_classes, test_classes) = train_test_split(all_inputs, all_classes, train_size=0.7, random_state=1)"
   ]
  },
  {
   "cell_type": "code",
   "execution_count": null,
   "metadata": {
    "scrolled": true
   },
   "outputs": [],
   "source": [
    "dtc = LinearSVC(C=1.0, class_weight='balanced', dual=True, fit_intercept=True,\n",
    "     intercept_scaling=1, loss='squared_hinge', max_iter=1000,\n",
    "     multi_class='ovr', penalty='l2', random_state=None, tol=0.0001,\n",
    "     verbose=0)\n",
    "#dtc = linear_model.SGDClassifier()\n",
    "#dtc = GaussianNB()\n",
    "#dtc = BaggingClassifier()\n",
    "clf=dtc.fit(all_inputs, all_classes)\n",
    "calibrated_svc = CalibratedClassifierCV(base_estimator=dtc,cv=\"prefit\")\n",
    "calibrated_svc.fit(all_inputs, all_classes)"
   ]
  },
  {
   "cell_type": "code",
   "execution_count": null,
   "metadata": {},
   "outputs": [],
   "source": [
    "test_inputs = ls[b][100000+num_rep:].values"
   ]
  },
  {
   "cell_type": "code",
   "execution_count": null,
   "metadata": {},
   "outputs": [],
   "source": [
    "ans = calibrated_svc.predict(test_inputs)\n",
    "ans2 = clf.predict(test_inputs)\n",
    "print(len(ans))\n",
    "print(sum(ans))\n",
    "print()\n",
    "print(sum(ans2))\n"
   ]
  },
  {
   "cell_type": "code",
   "execution_count": null,
   "metadata": {
    "scrolled": true
   },
   "outputs": [],
   "source": [
    "aa = calibrated_svc.predict_proba(test_inputs)\n",
    "aa"
   ]
  },
  {
   "cell_type": "code",
   "execution_count": null,
   "metadata": {
    "scrolled": true
   },
   "outputs": [],
   "source": [
    "aaa = pd.DataFrame(aa)\n",
    "ansss = aaa[1]"
   ]
  },
  {
   "cell_type": "code",
   "execution_count": null,
   "metadata": {},
   "outputs": [],
   "source": [
    "annnnnn = pd.DataFrame({\"CUS_ID\" : name,\"Ypred\":ansss })"
   ]
  },
  {
   "cell_type": "code",
   "execution_count": null,
   "metadata": {},
   "outputs": [],
   "source": [
    "annnnnn.to_csv(\"upload_10_5_3.csv\")"
   ]
  },
  {
   "cell_type": "code",
   "execution_count": null,
   "metadata": {},
   "outputs": [],
   "source": [
    "#1 資料重複8次 預測成功數3888\n",
    "#2 資料重複7次 預測成功數2962\n",
    "\n",
    "#1 資料重複9次 預測成功數3196\n",
    "#2 資料重複11次 預測成功數"
   ]
  }
 ],
 "metadata": {
  "kernelspec": {
   "display_name": "Python 3",
   "language": "python",
   "name": "python3"
  },
  "language_info": {
   "codemirror_mode": {
    "name": "ipython",
    "version": 3
   },
   "file_extension": ".py",
   "mimetype": "text/x-python",
   "name": "python",
   "nbconvert_exporter": "python",
   "pygments_lexer": "ipython3",
   "version": "3.7.2"
  }
 },
 "nbformat": 4,
 "nbformat_minor": 2
}
